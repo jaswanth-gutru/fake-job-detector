{
 "cells": [
  {
   "cell_type": "code",
   "execution_count": 15,
   "id": "82448da4-ecda-48ac-8ca1-e3be30fd337e",
   "metadata": {},
   "outputs": [],
   "source": [
    "import pandas as pd\n",
    "import numpy as np\n",
    "import re\n",
    "from nltk.corpus import stopwords\n",
    "import nltk\n",
    "from sklearn.ensemble import RandomForestClassifier\n",
    "\n",
    "from sklearn.model_selection import train_test_split\n",
    "from sklearn.feature_extraction.text import TfidfVectorizer\n",
    "from sklearn.linear_model import LogisticRegression\n",
    "from sklearn.metrics import classification_report, accuracy_score\n",
    "import joblib\n"
   ]
  },
  {
   "cell_type": "code",
   "execution_count": 16,
   "id": "3448af7f-1c2f-4fcb-bd82-bcb05f06157c",
   "metadata": {},
   "outputs": [
    {
     "name": "stderr",
     "output_type": "stream",
     "text": [
      "[nltk_data] Downloading package stopwords to\n",
      "[nltk_data]     C:\\Users\\Jaswanth\\AppData\\Roaming\\nltk_data...\n",
      "[nltk_data]   Package stopwords is already up-to-date!\n"
     ]
    }
   ],
   "source": [
    "nltk.download('stopwords')\n",
    "stop_words = set(stopwords.words('english'))\n"
   ]
  },
  {
   "cell_type": "code",
   "execution_count": 17,
   "id": "a4b60829-90fe-4941-a829-1017456637a5",
   "metadata": {},
   "outputs": [],
   "source": [
    "df = pd.read_csv(\"fake_job_postings.csv\")\n",
    "df = df[['title', 'location', 'department', 'salary_range', 'description', 'requirements', 'fraudulent']]\n",
    "df.fillna('', inplace=True)\n",
    "\n",
    "# Combine relevant text fields\n",
    "df['text'] = df['title'] + ' ' + df['location'] + ' ' + df['department'] + ' ' + df['salary_range'] + ' ' + df['description'] + ' ' + df['requirements']\n"
   ]
  },
  {
   "cell_type": "code",
   "execution_count": null,
   "id": "0555f2ef-997c-4f36-807a-7a6638441fb8",
   "metadata": {},
   "outputs": [],
   "source": [
    "# 🧹 Step 5: Clean Text Function\n",
    "def clean_text(text):\n",
    "    text = text.lower()\n",
    "    text = re.sub(r'\\W', ' ', text)  # remove symbols\n",
    "    text = re.sub(r'\\s+', ' ', text)  # remove extra spaces\n",
    "    text = ' '.join(word for word in text.split() if word not in stop_words)\n",
    "    return text\n",
    "\n",
    "df['clean_text'] = df['text'].apply(clean_text)\n",
    "\n",
    "# ✅ Step 6: Manually add suspicious fake examples\n",
    "extra_fake = pd.DataFrame({\n",
    "    'clean_text': [\n",
    "        'earn money quickly no skills required register by paying 200',\n",
    "        'work from home and earn 50000 weekly limited openings apply fast',\n",
    "        'click the link to register and pay to start job from tomorrow',\n",
    "        'form filling jobs with daily payment no interview',\n",
    "        'get rich quick scheme work online no qualification'\n",
    "    ],\n",
    "    'fraudulent': [1, 1, 1, 1, 1]\n",
    "})\n",
    "\n",
    "df = pd.concat([df[['clean_text', 'fraudulent']], extra_fake], ignore_index=True)\n",
    "\n",
    "# 🧪 Step 7: Features and Labels\n",
    "X = df['clean_text']\n",
    "y = df['fraudulent']\n",
    "\n",
    "# 📊 Step 8: TF-IDF Vectorization\n",
    "vectorizer = TfidfVectorizer(max_features=5000)\n",
    "X_vec = vectorizer.fit_transform(X)\n",
    "\n",
    "# 🔀 Step 9: Split Dataset\n",
    "X_train, X_test, y_train, y_test = train_test_split(X_vec, y, test_size=0.2, random_state=42)\n",
    "\n",
    "# 🚀 Step 10: Train Model (Random Forest)\n",
    "model = RandomForestClassifier(n_estimators=100, random_state=42)\n",
    "model.fit(X_train, y_train)\n",
    "\n",
    "# 📈 Step 11: Evaluate\n",
    "y_pred = model.predict(X_test)\n",
    "print(\"✅ Accuracy:\", accuracy_score(y_test, y_pred))\n",
    "print(\"\\n📊 Classification Report:\\n\", classification_report(y_test, y_pred))\n",
    "\n",
    "# 💾 Step 12: Save Model and Vectorizer\n",
    "joblib.dump(model, 'fake_job_model.pkl')\n",
    "joblib.dump(vectorizer, 'tfidf_vectorizer.pkl')\n",
    "\n",
    "\n",
    "\n",
    "\n"
   ]
  },
  {
   "cell_type": "code",
   "execution_count": null,
   "id": "336eb013-48ee-4b8b-a4cb-2d472af0641d",
   "metadata": {},
   "outputs": [],
   "source": [
    "\n",
    "def predict_job_post(text):\n",
    "    # suspicious words\n",
    "    suspicious_keywords = ['₹', 'earn', 'form filling', 'registration fee', 'click here', 'no experience', 'work from home', 'pay to start']\n",
    "\n",
    "    # Clean input\n",
    "    cleaned = ' '.join(text.lower().split())\n",
    "\n",
    "    # Rule-based check\n",
    "    if any(keyword in cleaned for keyword in suspicious_keywords):\n",
    "        print(\"⚠️ Suspicious keywords found: High chance of being FAKE\")\n",
    "\n",
    "    # ML Prediction\n",
    "    vectorized = vectorizer.transform([cleaned])\n",
    "    prediction = model.predict(vectorized)[0]\n",
    "    print(\"🔴 FAKE Job Posting\" if prediction == 1 else \"🟢 Real Job Posting\")"
   ]
  },
  {
   "cell_type": "code",
   "execution_count": 21,
   "id": "7d25f1a3-6046-4a45-ba79-d25d522cebc2",
   "metadata": {},
   "outputs": [
    {
     "name": "stdout",
     "output_type": "stream",
     "text": [
      "✅ Accuracy: 0.9751188146491473\n",
      "\n",
      "📊 Classification Report:\n",
      "               precision    recall  f1-score   support\n",
      "\n",
      "           0       0.97      1.00      0.99      3400\n",
      "           1       0.99      0.50      0.67       177\n",
      "\n",
      "    accuracy                           0.98      3577\n",
      "   macro avg       0.98      0.75      0.83      3577\n",
      "weighted avg       0.98      0.98      0.97      3577\n",
      "\n"
     ]
    }
   ],
   "source": [
    "print(\"✅ Accuracy:\", accuracy_score(y_test, y_pred))\n",
    "print(\"\\n📊 Classification Report:\\n\", classification_report(y_test, y_pred))\n",
    "\n"
   ]
  },
  {
   "cell_type": "code",
   "execution_count": 22,
   "id": "24ffcbb4-0075-4778-a439-5e036cf483f3",
   "metadata": {},
   "outputs": [
    {
     "name": "stdout",
     "output_type": "stream",
     "text": [
      "⚠️ Suspicious keywords found: High chance of being FAKE\n",
      "🔴 FAKE Job Posting\n"
     ]
    }
   ],
   "source": [
    "def predict_job_post(text):\n",
    "    # Optional: basic rule-based check\n",
    "    suspicious_keywords = ['₹', 'earn', 'form filling', 'registration fee', 'click here', 'no experience', 'work from home', 'pay to start']\n",
    "\n",
    "    # Clean input\n",
    "    cleaned = ' '.join(text.lower().split())\n",
    "\n",
    "    if any(keyword in cleaned for keyword in suspicious_keywords):\n",
    "        print(\"⚠️ Suspicious keywords found: High chance of being FAKE\")\n",
    "\n",
    "    # Vectorize and Predict\n",
    "    vectorized = vectorizer.transform([cleaned])\n",
    "    prediction = model.predict(vectorized)[0]\n",
    "    \n",
    "    # Output result\n",
    "    if prediction == 1:\n",
    "        print(\"🔴 FAKE Job Posting\")\n",
    "    else:\n",
    "        print(\"🟢 Real Job Posting\")\n",
    "\n",
    "# 🔎 Example test:\n",
    "predict_job_post(\"Earn ₹1 lakh/month working from home. No experience required. Just pay ₹200 to register.\")\n",
    "\n"
   ]
  },
  {
   "cell_type": "code",
   "execution_count": null,
   "id": "6449b8eb-2cb1-49a2-af23-e38eefd8e565",
   "metadata": {},
   "outputs": [],
   "source": []
  },
  {
   "cell_type": "code",
   "execution_count": null,
   "id": "5aa442ba-086e-4722-8630-2b31fbfc5e4d",
   "metadata": {},
   "outputs": [],
   "source": []
  }
 ],
 "metadata": {
  "kernelspec": {
   "display_name": "Python [conda env:base] *",
   "language": "python",
   "name": "conda-base-py"
  },
  "language_info": {
   "codemirror_mode": {
    "name": "ipython",
    "version": 3
   },
   "file_extension": ".py",
   "mimetype": "text/x-python",
   "name": "python",
   "nbconvert_exporter": "python",
   "pygments_lexer": "ipython3",
   "version": "3.12.7"
  }
 },
 "nbformat": 4,
 "nbformat_minor": 5
}
